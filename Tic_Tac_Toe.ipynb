{
  "nbformat": 4,
  "nbformat_minor": 0,
  "metadata": {
    "colab": {
      "name": "Tic_Tac_Toe.ipynb",
      "provenance": [],
      "authorship_tag": "ABX9TyO7oQ1bamklZRBP9Pw05gRK",
      "include_colab_link": true
    },
    "kernelspec": {
      "name": "python3",
      "display_name": "Python 3"
    },
    "language_info": {
      "name": "python"
    }
  },
  "cells": [
    {
      "cell_type": "markdown",
      "metadata": {
        "id": "view-in-github",
        "colab_type": "text"
      },
      "source": [
        "<a href=\"https://colab.research.google.com/github/DIVYANSHU85/Basic-Python/blob/main/Tic_Tac_Toe.ipynb\" target=\"_parent\"><img src=\"https://colab.research.google.com/assets/colab-badge.svg\" alt=\"Open In Colab\"/></a>"
      ]
    },
    {
      "cell_type": "code",
      "execution_count": 71,
      "metadata": {
        "colab": {
          "base_uri": "https://localhost:8080/",
          "height": 36
        },
        "id": "2sQ19NhNOkcN",
        "outputId": "f98638b7-0de9-45d9-a8a2-e0e8c82dc290"
      },
      "outputs": [
        {
          "output_type": "execute_result",
          "data": {
            "text/plain": [
              "'\\n1. borad\\n2. display board\\n3. play game\\n4. handle turn\\n5. check win\\n    5.1. check rows\\n    5.2. check columns\\n    5.3. check diagonal\\n6.check tie\\n7.flip player\\n'"
            ],
            "application/vnd.google.colaboratory.intrinsic+json": {
              "type": "string"
            }
          },
          "metadata": {},
          "execution_count": 71
        }
      ],
      "source": [
        "\"\"\"\n",
        "1. borad\n",
        "2. display board\n",
        "3. handle turn\n",
        "4. check win\n",
        "    4.1. check rows\n",
        "    4.2. check columns\n",
        "    4.3. check diagonal\n",
        "5.check tie\n",
        "6.flip player\n",
        "7. play game\n",
        "\"\"\""
      ]
    },
    {
      "cell_type": "code",
      "source": [
        "# global variables\n",
        "game_on = True\n",
        "Winner = None\n",
        "cp = \"X\"\n",
        "# making board\n",
        "board = [\"-\",\"-\",\"-\",\n",
        "        \"-\",\"-\",\"-\",\n",
        "        \"-\",\"-\",\"-\"]\n",
        "# display board\n",
        "def dis_board():\n",
        "    print(board[0] + \" | \" + board[1] + \" | \" + board[2])\n",
        "    print(board[3] + \" | \" + board[4] + \" | \" + board[5])\n",
        "    print(board[6] + \" | \" + board[7] + \" | \" + board[8])"
      ],
      "metadata": {
        "id": "hvJwdyYdOrg_"
      },
      "execution_count": 72,
      "outputs": []
    },
    {
      "cell_type": "code",
      "source": [
        "# handling turns of the two players \n",
        "def handle_turn(player):\n",
        "  print(player + \"'s Turn.\")\n",
        "  pos = input(\"Choose a position from 1-9: \")\n",
        "  valid = False\n",
        "  while not valid:\n",
        "    while pos not in [\"1\",\"2\",\"3\",\"4\",\"5\",\"6\",\"7\",\"8\",\"9\"]:\n",
        "      pos = input(\"Invalid Input. Choose again from 1-9: \")\n",
        "    pos = int(pos) - 1\n",
        "    if board[pos] == \"-\":\n",
        "      valid = True\n",
        "    else:\n",
        "      print(\"Can't go there. Choose Again\")\n",
        "  board[pos] = player\n",
        "  # displaying the board\n",
        "  dis_board()\n"
      ],
      "metadata": {
        "id": "NXsIvQV5RB-v"
      },
      "execution_count": 73,
      "outputs": []
    },
    {
      "cell_type": "code",
      "source": [
        "# checking if the game has ended or not\n",
        "def game_off():\n",
        "  if_win()\n",
        "  if_tie()\n",
        "# checking if somebody won\n",
        "def if_win():\n",
        "  global Winner\n",
        "  # check rows\n",
        "  rw = check_rows()\n",
        "  # check columns\n",
        "  cw = check_columns()\n",
        "  # check diagonals\n",
        "  dw = check_diagonals()\n",
        "  # Winner!!\n",
        "  if rw:\n",
        "    Winner = rw\n",
        "  elif cw:\n",
        "    Winner = cw\n",
        "  elif dw:\n",
        "    Winner = dw\n",
        "  else:\n",
        "    Winner = None\n",
        "  return\n",
        "\n",
        "def check_rows():\n",
        "  global game_on\n",
        "  row1 = board[0] == board[1] == board[2] != \"-\"\n",
        "  row2 = board[3] == board[4] == board[5] != \"-\"\n",
        "  row3 = board[6] == board[7] == board[8] != \"-\"\n",
        "  if row1 or row2 or row3:\n",
        "    game_on = False\n",
        "  if row1:\n",
        "    return board[0]\n",
        "  elif row2:\n",
        "    return board[3]\n",
        "  elif row3:\n",
        "    return board[6]\n",
        "  return\n",
        "\n",
        "def check_columns():\n",
        "  global game_on\n",
        "  col1 = board[0] == board[3] == board[6] != \"-\"\n",
        "  col2 = board[1] == board[4] == board[7] != \"-\"\n",
        "  col3 = board[2] == board[5] == board[8] != \"-\"\n",
        "  if col1 or col2 or col3:\n",
        "    game_on = False\n",
        "  if col1:\n",
        "    return board[0]\n",
        "  elif col2:\n",
        "    return board[1]\n",
        "  elif col3:\n",
        "    return board[2]\n",
        "  return\n",
        "\n",
        "def check_diagonals():\n",
        "  global game_on\n",
        "  d1 = board[0] == board[4] == board[8] != \"-\"\n",
        "  d2 = board[2] == board[4] == board[6] != \"-\"\n",
        "  if d1 or d2:\n",
        "    game_on = False\n",
        "  if d1:\n",
        "    return board[0]\n",
        "  elif d2:\n",
        "    return board[2]\n",
        "  return\n",
        "# checking if there is a tie.\n",
        "def if_tie():\n",
        "  global game_on\n",
        "  if \"-\" not in board:\n",
        "    game_on = False\n",
        "  return\n",
        "# fliping the chance of players\n",
        "def flip_player():\n",
        "  global cp\n",
        "  if cp == \"X\":\n",
        "    cp = \"O\"\n",
        "  elif cp == \"O\":\n",
        "    cp = \"X\"\n",
        "  return"
      ],
      "metadata": {
        "id": "6CM7R1QCV-3k"
      },
      "execution_count": 74,
      "outputs": []
    },
    {
      "cell_type": "code",
      "source": [
        "# Assembling all the function to play Tic-Tac-Toe\n",
        "def play_game():\n",
        "  dis_board()\n",
        "  # while game is till on\n",
        "  while game_on:\n",
        "    # handle a single turn of arbitrary player\n",
        "    handle_turn(cp)\n",
        "    # Check if Game has Ended\n",
        "    game_off()\n",
        "    # Flip to another player\n",
        "    flip_player()\n",
        "  # Game Ended\n",
        "  if Winner == \"X\" or Winner == \"O\":\n",
        "    print(Winner + \" won!!\")\n",
        "  elif Winner == None:\n",
        "    print(\"Tie.\")"
      ],
      "metadata": {
        "id": "Qt5tHymdPJ73"
      },
      "execution_count": 75,
      "outputs": []
    },
    {
      "cell_type": "code",
      "source": [
        "# Final game:-  \"Tic-Tac-Toe\"\n",
        "while True:\n",
        "  ch = input(\"Want to play Tic-Tac-Toe(Y/N): \")\n",
        "  if ch == \"Y\" or ch == \"y\":\n",
        "    print(\"Let's Play!!\")\n",
        "    play_game()\n",
        "  elif ch == \"n\" or ch ==\"N\":\n",
        "    print(\"Thanks for Playing.\")\n",
        "    break\n",
        "  else:\n",
        "    print(\"Wrong choice. Pick again\")"
      ],
      "metadata": {
        "id": "uNwwJ5Q_BM-8"
      },
      "execution_count": null,
      "outputs": []
    }
  ]
}