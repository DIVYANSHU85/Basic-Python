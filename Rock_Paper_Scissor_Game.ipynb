{
  "nbformat": 4,
  "nbformat_minor": 0,
  "metadata": {
    "colab": {
      "name": "Rock_Paper_Scissor_Game.ipynb",
      "provenance": [],
      "collapsed_sections": [],
      "authorship_tag": "ABX9TyNA0tmmh6gmEGhVzm+ptd0o",
      "include_colab_link": true
    },
    "kernelspec": {
      "name": "python3",
      "display_name": "Python 3"
    },
    "language_info": {
      "name": "python"
    }
  },
  "cells": [
    {
      "cell_type": "markdown",
      "metadata": {
        "id": "view-in-github",
        "colab_type": "text"
      },
      "source": [
        "<a href=\"https://colab.research.google.com/github/DIVYANSHU85/Rock_Paper_Scissor/blob/main/Rock_Paper_Scissor_Game.ipynb\" target=\"_parent\"><img src=\"https://colab.research.google.com/assets/colab-badge.svg\" alt=\"Open In Colab\"/></a>"
      ]
    },
    {
      "cell_type": "markdown",
      "source": [
        "# Basic Python Programming\n",
        "Here is the implementation of basic python programming language.\n",
        "\n",
        "I've used the random library of python language to build a game called ROCK-PAPER-SCISSOR.\n",
        "\n",
        "Here's the implementation and build of the program."
      ],
      "metadata": {
        "id": "3A-HBCvFcoOj"
      }
    },
    {
      "cell_type": "markdown",
      "source": [
        "*  Importing \"random\" library"
      ],
      "metadata": {
        "id": "oCjbK28IdpHc"
      }
    },
    {
      "cell_type": "code",
      "source": [
        "import random as rd"
      ],
      "metadata": {
        "id": "PVfY5u4OYqos"
      },
      "execution_count": 5,
      "outputs": []
    },
    {
      "cell_type": "markdown",
      "source": [
        "*   Printing the winning Rules of the game using string concatenation."
      ],
      "metadata": {
        "id": "3mI8Dr-9eUJo"
      }
    },
    {
      "cell_type": "code",
      "source": [
        "print(\"Winning Rules of the Rock paper scissor game as follows: \\n\"\n",
        "\t+\"Rock vs paper->paper wins \\n\"\n",
        "\t+ \"Rock vs scissor->Rock wins \\n\"\n",
        "\t+\"paper vs scissor->scissor wins \\n\")"
      ],
      "metadata": {
        "colab": {
          "base_uri": "https://localhost:8080/"
        },
        "id": "ZlVY4qMgY2go",
        "outputId": "021424c3-527b-49e2-efc0-aaf7d5f9a493"
      },
      "execution_count": 4,
      "outputs": [
        {
          "output_type": "stream",
          "name": "stdout",
          "text": [
            "Winning Rules of the Rock paper scissor game as follows: \n",
            "Rock vs paper->paper wins \n",
            "Rock vs scissor->Rock wins \n",
            "paper vs scissor->scissor wins \n",
            "\n"
          ]
        }
      ]
    },
    {
      "cell_type": "markdown",
      "source": [
        "*   Logic of the ROCK-PAPER-SCISSOR game:\n",
        "> 1.   Taking input from the User\n",
        "  2.   Printing what is the choice of the Computer\n",
        "  3.   Applying the condition for winning using if-else conditional statements\n",
        "  4.   Comparing the choices of User and Computer\n",
        "  5.   Printing the Result.\n",
        "\n"
      ],
      "metadata": {
        "id": "Vpd23SACepLW"
      }
    },
    {
      "cell_type": "code",
      "execution_count": 3,
      "metadata": {
        "colab": {
          "base_uri": "https://localhost:8080/"
        },
        "id": "yDRQvNspYcJH",
        "outputId": "8ade901c-828d-444c-9e2d-aa09e6cbbc6b"
      },
      "outputs": [
        {
          "output_type": "stream",
          "name": "stdout",
          "text": [
            "Enter choice \n",
            " 1. Rock \n",
            " 2. paper \n",
            " 3. scissor \n",
            "\n",
            "User turn: 3\n",
            "user choice is: scissor\n",
            "\n",
            "Now its computer turn.......\n",
            "Computer choice is: Rock\n",
            "scissor V/s Rock\n",
            "Rock wins =><== Computer wins ==>\n",
            "Do you want to play again? (Y/N)\n",
            "y\n",
            "Enter choice \n",
            " 1. Rock \n",
            " 2. paper \n",
            " 3. scissor \n",
            "\n",
            "User turn: 1\n",
            "user choice is: Rock\n",
            "\n",
            "Now its computer turn.......\n",
            "Computer choice is: scissor\n",
            "Rock V/s scissor\n",
            "Rock wins =><== User wins ==>\n",
            "Do you want to play again? (Y/N)\n",
            "n\n",
            "\n",
            "Thanks for playing\n"
          ]
        }
      ],
      "source": [
        "while True:\n",
        "\tprint(\"Enter choice \\n 1. Rock \\n 2. paper \\n 3. scissor \\n\")\n",
        "\t\n",
        "\t# take the input from user\n",
        "\tchoice = int(input(\"User turn: \"))\n",
        "\n",
        "\t# OR is the short-circuit operator\n",
        "\t# if any one of the condition is true\n",
        "\t# then it return True value\n",
        "\t\n",
        "\t# looping until user enter invalid input\n",
        "\twhile choice > 3 or choice < 1:\n",
        "\t\tchoice = int(input(\"enter valid input: \"))\n",
        "\t\t\n",
        "\n",
        "\t# initialize value of choice_name variable corresponding to the choice value\n",
        "\tif choice == 1:\n",
        "\t\tchoice_name = 'Rock'\n",
        "\telif choice == 2:\n",
        "\t\tchoice_name = 'paper'\n",
        "\telse:\n",
        "\t\tchoice_name = 'scissor'\n",
        "\t\t\n",
        "\t# print user choice\n",
        "\tprint(\"user choice is: \" + choice_name)\n",
        "\tprint(\"\\nNow its computer turn.......\")\n",
        "\n",
        "\t# Computer chooses randomly any number among 1 , 2 and 3. Using randint method of random module\n",
        "\tcomp_choice = rd.randint(1, 3)\n",
        "\t\n",
        "\t# looping until comp_choice value\tis equal to the choice value\n",
        "\twhile comp_choice == choice:\n",
        "\t\tcomp_choice = rd.randint(1, 3)\n",
        "\n",
        "\t# initialize value of comp_choice_name variable corresponding to the choice value\n",
        "\tif comp_choice == 1:\n",
        "\t\tcomp_choice_name = 'Rock'\n",
        "\telif comp_choice == 2:\n",
        "\t\tcomp_choice_name = 'paper'\n",
        "\telse:\n",
        "\t\tcomp_choice_name = 'scissor'\n",
        "\t\t\n",
        "\tprint(\"Computer choice is: \" + comp_choice_name)\n",
        "\n",
        "\tprint(choice_name + \" V/s \" + comp_choice_name)\n",
        "\n",
        "\t# condition for winning\n",
        "\tif((choice == 1 and comp_choice == 2) or\n",
        "\t(choice == 2 and comp_choice ==1 )):\n",
        "\t\tprint(\"paper wins => \", end = \"\")\n",
        "\t\tresult = \"paper\"\n",
        "\t\t\n",
        "\telif((choice == 1 and comp_choice == 3) or\n",
        "\t\t(choice == 3 and comp_choice == 1)):\n",
        "\t\tprint(\"Rock wins =>\", end = \"\")\n",
        "\t\tresult = \"Rock\"\n",
        "\telse:\n",
        "\t\tprint(\"scissor wins =>\", end = \"\")\n",
        "\t\tresult = \"scissor\"\n",
        "\n",
        "\t# Printing either user or computer wins\n",
        "\tif result == choice_name:\n",
        "\t\tprint(\"<== User wins ==>\")\n",
        "\telse:\n",
        "\t\tprint(\"<== Computer wins ==>\")\n",
        "\t\t\n",
        "\tprint(\"Do you want to play again? (Y/N)\")\n",
        "\tans = input()\n",
        "\n",
        "\n",
        "\t# if user input n or N then condition is True\n",
        "\tif ans == 'n' or ans == 'N':\n",
        "\t\tbreak\n",
        "\t\n",
        "# after coming out of the while loop we print thanks for playing\n",
        "print(\"\\nThanks for playing\")"
      ]
    }
  ]
}